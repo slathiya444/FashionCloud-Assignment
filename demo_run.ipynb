{
 "cells": [
  {
   "cell_type": "code",
   "execution_count": 1,
   "metadata": {},
   "outputs": [],
   "source": [
    "import csv\n",
    "import json"
   ]
  },
  {
   "cell_type": "code",
   "execution_count": 3,
   "metadata": {},
   "outputs": [],
   "source": [
    "def read_csv(file_path):\n",
    "    data = []\n",
    "    with open(file_path, 'r') as file:\n",
    "        reader = csv.DictReader(file, delimiter=';')\n",
    "        for row in reader:\n",
    "            data.append(row)\n",
    "    return data\n",
    "\n",
    "def apply_mappings(data, mappings):\n",
    "    for row in data:\n",
    "        for src, dest, src_type, dest_type in mappings:\n",
    "            if src_type in row:\n",
    "                src_values = src.split('|')\n",
    "                if all(row[src_type] == val for val in src_values):\n",
    "                    row[dest_type] = dest\n",
    "\n",
    "def group_data(data):\n",
    "    catalog = {'brand': data[0]['brand']}\n",
    "    articles = {}\n",
    "\n",
    "    for row in data:\n",
    "        article_number = row['article_number']\n",
    "        if article_number not in articles:\n",
    "            articles[article_number] = {\n",
    "                'article_number': article_number,\n",
    "                'variations': []\n",
    "            }\n",
    "\n",
    "        variation = {}\n",
    "        for key, value in row.items():\n",
    "            if key not in ['brand', 'article_number']:\n",
    "                variation[key] = value\n",
    "\n",
    "        articles[article_number]['variations'].append(variation)\n",
    "\n",
    "    catalog['articles'] = list(articles.values())\n",
    "    return catalog\n",
    "\n",
    "def main():\n",
    "    pricat_data = read_csv('problem_statement_files/pricat.csv')\n",
    "    mappings_data = read_csv('problem_statement_files/mappings.csv')\n",
    "    mappings = [(row['source'], row['destination'], row['source_type'], row['destination_type']) for row in mappings_data]\n",
    "\n",
    "    apply_mappings(pricat_data, mappings)\n",
    "    structured_data = group_data(pricat_data)\n",
    "\n",
    "    with open('output.json', 'w') as file:\n",
    "        json.dump(structured_data, file, indent=2)\n",
    "\n",
    "if __name__ == '__main__':\n",
    "    main()"
   ]
  },
  {
   "cell_type": "code",
   "execution_count": null,
   "metadata": {},
   "outputs": [],
   "source": []
  }
 ],
 "metadata": {
  "kernelspec": {
   "display_name": "Python 3",
   "language": "python",
   "name": "python3"
  },
  "language_info": {
   "codemirror_mode": {
    "name": "ipython",
    "version": 3
   },
   "file_extension": ".py",
   "mimetype": "text/x-python",
   "name": "python",
   "nbconvert_exporter": "python",
   "pygments_lexer": "ipython3",
   "version": "3.8.2"
  }
 },
 "nbformat": 4,
 "nbformat_minor": 4
}
